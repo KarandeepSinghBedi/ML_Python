{
  "nbformat": 4,
  "nbformat_minor": 0,
  "metadata": {
    "colab": {
      "provenance": []
    },
    "kernelspec": {
      "name": "python3",
      "display_name": "Python 3"
    },
    "language_info": {
      "name": "python"
    }
  },
  "cells": [
    {
      "cell_type": "code",
      "execution_count": 1,
      "metadata": {
        "colab": {
          "base_uri": "https://localhost:8080/"
        },
        "id": "LynczderHEfx",
        "outputId": "1d7292f8-e53f-4fd6-cf5a-dece9fb54b2b"
      },
      "outputs": [
        {
          "output_type": "stream",
          "name": "stdout",
          "text": [
            "Hello World\n"
          ]
        }
      ],
      "source": [
        "print(\"Hello World\")"
      ]
    },
    {
      "cell_type": "code",
      "source": [
        "# with argument and with return value\n",
        "def square(a):\n",
        "  return a**2\n",
        "\n",
        "x= int(input(\"Enter a number: \"))\n",
        "print(square(x))\n",
        "a = square(25.2)\n",
        "print(a);"
      ],
      "metadata": {
        "colab": {
          "base_uri": "https://localhost:8080/"
        },
        "id": "Q6fx21cKZpGj",
        "outputId": "19fb981c-a89a-4417-c4eb-9008921ca8f6"
      },
      "execution_count": 7,
      "outputs": [
        {
          "output_type": "stream",
          "name": "stdout",
          "text": [
            "Enter a number: 229\n",
            "52441\n",
            "635.04\n"
          ]
        }
      ]
    },
    {
      "cell_type": "code",
      "source": [
        "# without argument and without return value\n",
        "def square():\n",
        "  x= int(input(\"Enter a number: \"))\n",
        "  print(x**2)\n",
        "\n",
        "square()"
      ],
      "metadata": {
        "id": "n9_WltYAdMNh",
        "outputId": "28b3b067-8b08-46e8-9ed0-a457ec202c26",
        "colab": {
          "base_uri": "https://localhost:8080/"
        }
      },
      "execution_count": 10,
      "outputs": [
        {
          "output_type": "stream",
          "name": "stdout",
          "text": [
            "Enter a number: 229\n",
            "52441\n"
          ]
        }
      ]
    },
    {
      "cell_type": "code",
      "source": [
        "# without argument and with return value\n",
        "def square():\n",
        "  x= int(input(\"Enter a number: \"))\n",
        "  return x**2\n",
        "\n",
        "print(square())"
      ],
      "metadata": {
        "id": "8KL4mD1neLA2",
        "outputId": "71c4cd5a-2f2e-40b3-837c-ad95be0677eb",
        "colab": {
          "base_uri": "https://localhost:8080/"
        }
      },
      "execution_count": 11,
      "outputs": [
        {
          "output_type": "stream",
          "name": "stdout",
          "text": [
            "Enter a number: 229\n",
            "52441\n"
          ]
        }
      ]
    },
    {
      "cell_type": "code",
      "source": [
        "# with argument and without return value\n",
        "def square(x):\n",
        "  print(x**2)\n",
        "\n",
        "square(int(input(\"Enter a number: \")))\n"
      ],
      "metadata": {
        "id": "heS6moI4ed8c",
        "outputId": "b0f44cc4-1996-4dbe-a320-5ac6aaf8f283",
        "colab": {
          "base_uri": "https://localhost:8080/"
        }
      },
      "execution_count": 13,
      "outputs": [
        {
          "output_type": "stream",
          "name": "stdout",
          "text": [
            "Enter a number: 229\n",
            "52441\n"
          ]
        }
      ]
    },
    {
      "cell_type": "code",
      "source": [
        "def test(a,b,c,d):\n",
        "  return a,b,c,d\n",
        "\n",
        "x,y,z,w = test(1,2,3,4)\n",
        "print(x,y,z,w)\n",
        "print(type(x))\n",
        "print(type(y))\n",
        "print(type(z))\n",
        "print(type(w))\n",
        "\n",
        "x= test(1,2,3,4)\n",
        "print(x)\n",
        "print(type(x))"
      ],
      "metadata": {
        "id": "R_3Q59f1hERg",
        "outputId": "ad527d53-1c6a-481c-d5c1-90ef36510d2f",
        "colab": {
          "base_uri": "https://localhost:8080/"
        }
      },
      "execution_count": 23,
      "outputs": [
        {
          "output_type": "stream",
          "name": "stdout",
          "text": [
            "1 2 3 4\n",
            "<class 'int'>\n",
            "<class 'int'>\n",
            "<class 'int'>\n",
            "<class 'int'>\n",
            "(1, 2, 3, 4)\n",
            "<class 'tuple'>\n"
          ]
        }
      ]
    },
    {
      "cell_type": "code",
      "source": [
        "def test1():\n",
        "  l1 = [10, 20, 30,40]\n",
        "  t1 = ( 60,70,80)\n",
        "  return l1, t1\n",
        "\n",
        "u = test1()\n",
        "\n",
        "print(u)\n",
        "\n",
        "print(type(u))\n",
        "\n"
      ],
      "metadata": {
        "id": "YrfvrYp3hPEr",
        "outputId": "b6698715-0a55-49d9-b903-7de5dd416f8f",
        "colab": {
          "base_uri": "https://localhost:8080/"
        }
      },
      "execution_count": 35,
      "outputs": [
        {
          "output_type": "stream",
          "name": "stdout",
          "text": [
            "([10, 20, 30, 40], (60, 70, 80))\n",
            "<class 'tuple'>\n"
          ]
        }
      ]
    },
    {
      "cell_type": "code",
      "source": [
        "def func1(a,b,c,d):\n",
        "  return a,b,c,d\n",
        "\n",
        "_,val2,_,val4 = func1(10,20,30,40)\n",
        "print(val2, val4)"
      ],
      "metadata": {
        "id": "TRWRitVzk356",
        "outputId": "78865f16-afda-4b6b-e389-8f5ac8b8c95f",
        "colab": {
          "base_uri": "https://localhost:8080/"
        }
      },
      "execution_count": 36,
      "outputs": [
        {
          "output_type": "stream",
          "name": "stdout",
          "text": [
            "20 40\n"
          ]
        }
      ]
    }
  ]
}